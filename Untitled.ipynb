{
 "cells": [
  {
   "cell_type": "code",
   "execution_count": 23,
   "id": "98ef8fe5",
   "metadata": {},
   "outputs": [],
   "source": [
    "import sympy as smp \n",
    "\n",
    "x, a , b, c = smp.symbols('x a b c', real =True)"
   ]
  },
  {
   "cell_type": "code",
   "execution_count": 24,
   "id": "45fef199",
   "metadata": {},
   "outputs": [
    {
     "data": {
      "text/latex": [
       "$\\displaystyle x^{2} e^{a}$"
      ],
      "text/plain": [
       "x**2*exp(a)"
      ]
     },
     "execution_count": 24,
     "metadata": {},
     "output_type": "execute_result"
    }
   ],
   "source": [
    "f = x**2 * smp.exp(1)**a\n",
    "f"
   ]
  },
  {
   "cell_type": "code",
   "execution_count": 35,
   "id": "ad376ce9",
   "metadata": {},
   "outputs": [
    {
     "data": {
      "text/latex": [
       "$\\displaystyle 0$"
      ],
      "text/plain": [
       "0"
      ]
     },
     "execution_count": 35,
     "metadata": {},
     "output_type": "execute_result"
    }
   ],
   "source": [
    "dfdx = smp.diff(f,x)\n",
    "\n",
    "d4fdx4 = smp.diff(f,x,4)\n",
    "\n",
    "dfdx \n",
    "\n",
    "d4fdx4"
   ]
  },
  {
   "cell_type": "code",
   "execution_count": 37,
   "id": "0e18c4d3",
   "metadata": {},
   "outputs": [
    {
     "data": {
      "text/latex": [
       "$\\displaystyle 2 e x$"
      ],
      "text/plain": [
       "2*E*x"
      ]
     },
     "execution_count": 37,
     "metadata": {},
     "output_type": "execute_result"
    }
   ],
   "source": [
    "dfdx.subs([(a,1)])"
   ]
  },
  {
   "cell_type": "code",
   "execution_count": null,
   "id": "ab87a007",
   "metadata": {},
   "outputs": [],
   "source": []
  },
  {
   "cell_type": "code",
   "execution_count": null,
   "id": "318e6bd9",
   "metadata": {},
   "outputs": [],
   "source": []
  }
 ],
 "metadata": {
  "kernelspec": {
   "display_name": "Python 3 (ipykernel)",
   "language": "python",
   "name": "python3"
  },
  "language_info": {
   "codemirror_mode": {
    "name": "ipython",
    "version": 3
   },
   "file_extension": ".py",
   "mimetype": "text/x-python",
   "name": "python",
   "nbconvert_exporter": "python",
   "pygments_lexer": "ipython3",
   "version": "3.9.12"
  }
 },
 "nbformat": 4,
 "nbformat_minor": 5
}
